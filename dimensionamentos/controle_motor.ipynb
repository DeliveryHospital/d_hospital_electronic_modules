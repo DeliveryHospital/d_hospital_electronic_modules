{
 "cells": [
  {
   "cell_type": "markdown",
   "metadata": {},
   "source": [
    "# Calculos de dimensionamento de transitor bjt\n",
    "![exemplo de transistor](../assets/transistor_bjt.png)\n"
   ]
  },
  {
   "cell_type": "code",
   "execution_count": 270,
   "metadata": {},
   "outputs": [],
   "source": [
    "import numpy as np\n",
    "import pandas as pd\n",
    "\n",
    "#transistor\n",
    "beta = 100\n",
    "alfa = beta/(beta+1)\n",
    "vt = 25/1e3\n",
    "vbe = 0.7"
   ]
  },
  {
   "cell_type": "code",
   "execution_count": 271,
   "metadata": {},
   "outputs": [],
   "source": [
    "#dados\n",
    "vcc = 42 #volt\n",
    "vcc_m = 0\n",
    "output = 3.3 #volt\n",
    "rc = 30e3\n",
    "re = 2e3\n",
    "rb = 0"
   ]
  },
  {
   "cell_type": "code",
   "execution_count": 272,
   "metadata": {},
   "outputs": [
    {
     "name": "stdout",
     "output_type": "stream",
     "text": [
      "Regiao ativa \n",
      " ic = 0.001287128712871287 ie = 0.0012999999999999997 ib = 1.287128712871287e-05 \n",
      " vc = 3.386138613861391  ve = 2.5999999999999996\n",
      "Esta na regiao ativa? True\n"
     ]
    }
   ],
   "source": [
    "def active_region(vcc,vcc_m,rc,re,rb,debug = False):\n",
    "    ib = (output - vbe - vcc_m)/(rb + re*(beta+1))\n",
    "    ic = beta*ib\n",
    "    ie = (beta+1)*ib\n",
    "    vc = vcc - ic*rc\n",
    "    ve = vcc_m + ie*re\n",
    "    if (debug):\n",
    "        print(\"Regiao ativa \\r\\n\",\"ic =\",ic,\"ie =\",ie,\"ib =\",ib,\"\\n vc =\",vc,\" ve =\",ve)\n",
    "    if ( (vc > output) and (output>ve)):\n",
    "        #print(\" transistor ESTA na regiao ativa\")\n",
    "        return True\n",
    "    else:\n",
    "        #print(\" transistor NAO esta na regiao ativa\")\n",
    "        return False\n",
    "print(\"Esta na regiao ativa?\",active_region(vcc,vcc_m,rc,re,rb, debug=True))"
   ]
  },
  {
   "cell_type": "code",
   "execution_count": 273,
   "metadata": {},
   "outputs": [
    {
     "name": "stdout",
     "output_type": "stream",
     "text": [
      "Regiao de saturaçao \n",
      " ib = -6.666666666747379e-06  ic = 0.0013066666666666671  ie = 0.0013000000000000008 \n",
      " vc = 2.799999999999983  ve = 2.6000000000000014\n"
     ]
    }
   ],
   "source": [
    "def saturation(vcc,vcc_m,rc,re,rb):\n",
    "    r_array = np.array([[rb,0,re],\n",
    "                        [0,rc,re],\n",
    "                        [1,1,-1]])\n",
    "\n",
    "    v_array = np.array([output - vbe - vcc_m,\n",
    "                        vcc - vce - vcc_m,\n",
    "                        0])\n",
    "\n",
    "    i_array = np.linalg.lstsq(r_array,v_array,rcond=None)[0]\n",
    "    [ib,ic,ie] = i_array \n",
    "    vc = vcc - i_array[1]*rc\n",
    "    ve = ve = vcc_m + re*i_array[2]\n",
    "    print(\"Regiao de saturaçao \\r\\n\",\"ib =\",ib,\" ic =\",ic,\" ie =\",ie,\"\\n vc =\",vc,\" ve =\",ve)\n",
    "saturation(vcc, vcc_m, rc, re, rb)\n"
   ]
  }
 ],
 "metadata": {
  "interpreter": {
   "hash": "7573f1826719c495f3ba25031edb16b094c0636b1d900b9c08b47dfe6633cab2"
  },
  "kernelspec": {
   "display_name": "Python 3.9.7 64-bit",
   "name": "python3"
  },
  "language_info": {
   "codemirror_mode": {
    "name": "ipython",
    "version": 3
   },
   "file_extension": ".py",
   "mimetype": "text/x-python",
   "name": "python",
   "nbconvert_exporter": "python",
   "pygments_lexer": "ipython3",
   "version": "3.9.7"
  },
  "orig_nbformat": 4
 },
 "nbformat": 4,
 "nbformat_minor": 2
}
