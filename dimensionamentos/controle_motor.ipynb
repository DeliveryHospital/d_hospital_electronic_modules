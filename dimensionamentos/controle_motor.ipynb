{
 "cells": [
  {
   "cell_type": "markdown",
   "metadata": {},
   "source": [
    "# Calculos de dimensionamento de transitor bjt\n",
    "![exemplo de transistor](../assets/transistor_bjt.png)\n"
   ]
  },
  {
   "cell_type": "code",
   "execution_count": 326,
   "metadata": {},
   "outputs": [],
   "source": [
    "import numpy as np\n",
    "import pandas as pd\n",
    "\n",
    "#transistor\n",
    "beta = 100\n",
    "alfa = beta/(beta+1)\n",
    "vt = 25/1e3\n",
    "vbe = 0.5"
   ]
  },
  {
   "cell_type": "code",
   "execution_count": 327,
   "metadata": {},
   "outputs": [],
   "source": [
    "#dados\n",
    "vcc = 42 #volt\n",
    "vcc_m = 0\n",
    "output = 3.3 #volt\n",
    "rc = 30e3\n",
    "re = 2e3\n",
    "rb = 0"
   ]
  },
  {
   "cell_type": "code",
   "execution_count": 328,
   "metadata": {},
   "outputs": [],
   "source": [
    "def active_region(vcc,vcc_m,rc,re,rb,debug = False):\n",
    "    ib = (output - vbe - vcc_m)/(rb + re*(beta+1))\n",
    "    ic = beta*ib\n",
    "    ie = (beta+1)*ib\n",
    "    vc = vcc - ic*rc\n",
    "    ve = vcc_m + ie*re\n",
    "    if (debug):\n",
    "        print(\"Regiao ativa \\r\\n\",\"ib =\",ib,\"ic =\",ic,\"ie =\",ie,\"\\n vc =\",vc,\" ve =\",ve)\n",
    "    if ( (vc > output) and (output>ve)):\n",
    "        #print(\" transistor ESTA na regiao ativa\")\n",
    "        return True\n",
    "    else:\n",
    "        #print(\" transistor NAO esta na regiao ativa\")\n",
    "        return False\n",
    "\n",
    "def saturation_region(vcc,vcc_m,rc,re,rb):\n",
    "    r_array = np.array([[rb,0,re],\n",
    "                        [0,rc,re],\n",
    "                        [1,1,-1]])\n",
    "\n",
    "    v_array = np.array([output - vbe - vcc_m,\n",
    "                        vcc - vce - vcc_m,\n",
    "                        0])\n",
    "\n",
    "    i_array = np.linalg.lstsq(r_array,v_array,rcond=None)[0]\n",
    "    [ib,ic,ie] = i_array \n",
    "    vc = vcc - ic*rc\n",
    "    ve = ve = vcc_m + re*ie\n",
    "    print(\"Regiao de saturaçao \\r\\n\",\"ib =\",ib,\" ic =\",ic,\" ie =\",ie,\"\\n vc =\",vc,\" ve =\",ve)"
   ]
  },
  {
   "cell_type": "code",
   "execution_count": 329,
   "metadata": {},
   "outputs": [
    {
     "name": "stdout",
     "output_type": "stream",
     "text": [
      "Regiao ativa \n",
      " ib = 1.3861386138613861e-05 ic = 0.001386138613861386 ie = 0.0014 \n",
      " vc = 0.41584158415841443  ve = 2.8\n",
      "Esta na regiao ativa? False\n",
      "Regiao de saturaçao \n",
      " ib = 9.999999999991305e-05  ic = 0.0013000000000000002  ie = 0.0014000000000000013 \n",
      " vc = 2.999999999999993  ve = 2.8000000000000025\n"
     ]
    }
   ],
   "source": [
    "print(\"Esta na regiao ativa?\",active_region(vcc,vcc_m,rc,re,rb, debug=True))\n",
    "saturation_region(vcc, vcc_m, rc, re, rb)\n"
   ]
  }
 ],
 "metadata": {
  "interpreter": {
   "hash": "7573f1826719c495f3ba25031edb16b094c0636b1d900b9c08b47dfe6633cab2"
  },
  "kernelspec": {
   "display_name": "Python 3.9.7 64-bit",
   "name": "python3"
  },
  "language_info": {
   "codemirror_mode": {
    "name": "ipython",
    "version": 3
   },
   "file_extension": ".py",
   "mimetype": "text/x-python",
   "name": "python",
   "nbconvert_exporter": "python",
   "pygments_lexer": "ipython3",
   "version": "3.9.7"
  },
  "orig_nbformat": 4
 },
 "nbformat": 4,
 "nbformat_minor": 2
}
