{
 "cells": [
  {
   "cell_type": "markdown",
   "metadata": {},
   "source": [
    "# Calculos de dimensionamento de transitor bjt\n",
    "![exemplo de transistor](../assets/transistor_bjt.png)\n"
   ]
  },
  {
   "cell_type": "code",
   "execution_count": 262,
   "metadata": {},
   "outputs": [],
   "source": [
    "import numpy as np\n",
    "import pandas as pd\n",
    "\n",
    "#transistor\n",
    "beta = 100\n",
    "alfa = beta/(beta+1)\n",
    "vt = 25/1e3\n",
    "vbe = 0.7"
   ]
  },
  {
   "cell_type": "code",
   "execution_count": 263,
   "metadata": {},
   "outputs": [],
   "source": [
    "#dados\n",
    "vcc = 42 #volt\n",
    "vcc_m = 0\n",
    "output = 3.3 #volt\n",
    "rc = 31e3\n",
    "re = 2e3\n",
    "rb = 100e3"
   ]
  },
  {
   "cell_type": "code",
   "execution_count": 264,
   "metadata": {},
   "outputs": [
    {
     "name": "stdout",
     "output_type": "stream",
     "text": [
      "Regiao ativa \n",
      " ic = 0.0008609271523178807 ie = 0.0008695364238410595 ib = 8.609271523178807e-06 \n",
      " vc = 15.311258278145697  ve = 1.7390728476821191\n",
      "Esta na regiao ativa? True\n"
     ]
    }
   ],
   "source": [
    "def active_region(vcc,vcc_m,rc,re,rb,debug = False):\n",
    "    ib = (output - vbe - vcc_m)/(rb + re*(beta+1))\n",
    "    ic = beta*ib\n",
    "    ie = (beta+1)*ib\n",
    "    vc = vcc - ic*rc\n",
    "    ve = vcc_m + ie*re\n",
    "    if (debug):\n",
    "        print(\"Regiao ativa \\r\\n\",\"ic =\",ic,\"ie =\",ie,\"ib =\",ib,\"\\n vc =\",vc,\" ve =\",ve)\n",
    "    if ( (vc > output) and (output>ve)):\n",
    "        #print(\" transistor ESTA na regiao ativa\")\n",
    "        return True\n",
    "    else:\n",
    "        #print(\" transistor NAO esta na regiao ativa\")\n",
    "        return False\n",
    "print(\"Esta na regiao ativa?\",active_region(vcc,vcc_m,rc,re,rb, debug=True))"
   ]
  },
  {
   "cell_type": "code",
   "execution_count": 265,
   "metadata": {},
   "outputs": [
    {
     "name": "stdout",
     "output_type": "stream",
     "text": [
      "Regiao de saturaçao \n",
      " ib = 6.543723973825874e-07  ic = 0.0012666270077334927  ie = 0.0012672813801308691 \n",
      " vc = 2.7345627602617313  ve = 2.534562760261738\n"
     ]
    }
   ],
   "source": [
    "def saturation(vcc,vcc_m,rc,re,rb):\n",
    "    r_array = np.array([[rb,0,re],\n",
    "                        [0,rc,re],\n",
    "                        [1,1,-1]])\n",
    "\n",
    "    v_array = np.array([output - vbe - vcc_m,\n",
    "                        vcc - vce - vcc_m,\n",
    "                        0])\n",
    "\n",
    "    i_array = np.linalg.lstsq(r_array,v_array,rcond=None)[0]\n",
    "    [ib,ic,ie] = i_array \n",
    "    vc = vcc - i_array[1]*rc\n",
    "    ve = ve = vcc_m + re*i_array[2]\n",
    "    print(\"Regiao de saturaçao \\r\\n\",\"ib =\",ib,\" ic =\",ic,\" ie =\",ie,\"\\n vc =\",vc,\" ve =\",ve)\n",
    "saturation(vcc, vcc_m, rc, re, rb)\n"
   ]
  }
 ],
 "metadata": {
  "interpreter": {
   "hash": "7573f1826719c495f3ba25031edb16b094c0636b1d900b9c08b47dfe6633cab2"
  },
  "kernelspec": {
   "display_name": "Python 3.9.7 64-bit",
   "name": "python3"
  },
  "language_info": {
   "codemirror_mode": {
    "name": "ipython",
    "version": 3
   },
   "file_extension": ".py",
   "mimetype": "text/x-python",
   "name": "python",
   "nbconvert_exporter": "python",
   "pygments_lexer": "ipython3",
   "version": "3.9.7"
  },
  "orig_nbformat": 4
 },
 "nbformat": 4,
 "nbformat_minor": 2
}
